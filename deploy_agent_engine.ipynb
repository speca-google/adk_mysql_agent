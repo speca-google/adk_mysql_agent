{
 "cells": [
  {
   "cell_type": "code",
   "execution_count": null,
   "id": "9cc29332",
   "metadata": {},
   "outputs": [],
   "source": [
    "# Copyright 2025 Google LLC\n",
    "#\n",
    "# Licensed under the Apache License, Version 2.0 (the \"License\");\n",
    "# you may not use this file except in compliance with the License.\n",
    "# You may obtain a copy of the License at\n",
    "#\n",
    "#     http://www.apache.org/licenses/LICENSE-2.0\n",
    "#\n",
    "# Unless required by applicable law or agreed to in writing, software\n",
    "# distributed under the License is distributed on an \"AS IS\" BASIS,\n",
    "# WITHOUT WARRANTIES OR CONDITIONS OF ANY KIND, either express or implied.\n",
    "# See the License for the specific language governing permissions and\n",
    "# limitations under the License."
   ]
  },
  {
   "cell_type": "markdown",
   "id": "2936e58f",
   "metadata": {},
   "source": [
    "# Deploy ADK Agent in AI Engine\n",
    "\n",
    "This notebook provides a step-by-step to deploy an Agent Created using Agent Development Kit on Agent Engine (ReasonEngine on Vertex AI)\n",
    "\n",
    "**Important**: This notebook consider that the Agent was built with ADK and the agent files are inside an agent folder and the dependencies in a file config.yaml\n",
    "\n",
    "Folders structure (example): \n",
    "```\n",
    "parent_folder/\n",
    "    agent_folder/\n",
    "        __init__.py\n",
    "        agent.py\n",
    "        config.yaml\n",
    "        .env\n",
    "    deploy_agent_engine.ipynb\n",
    "```\n",
    "\n",
    "config.yaml (example): \n",
    "```yaml\n",
    "agent_name: 'agent_name'\n",
    "agent_display_name: 'Agent Name'\n",
    "agent_description: 'Useful agent to help users'\n",
    "\n",
    "deploy:\n",
    "  dependencies: ['google-cloud-aiplatform[agent_engines]', 'google-adk', 'cloudpickle', 'pydantic']\n",
    "```\n"
   ]
  },
  {
   "cell_type": "markdown",
   "id": "2a55e116",
   "metadata": {},
   "source": [
    "### Setup and Config"
   ]
  },
  {
   "cell_type": "code",
   "execution_count": null,
   "id": "3da3c323",
   "metadata": {},
   "outputs": [],
   "source": [
    "# Checking the google-adk and google-cloud-aiplatform versions\n",
    "!pip freeze | grep google-adk\n",
    "!pip freeze | grep google-cloud-aiplatform"
   ]
  },
  {
   "cell_type": "code",
   "execution_count": null,
   "id": "8a7db7f0",
   "metadata": {},
   "outputs": [],
   "source": [
    "# Authentication on gcloud (if necessary)\n",
    "# !gcloud auth application-default login"
   ]
  },
  {
   "cell_type": "code",
   "execution_count": null,
   "id": "20089cc9",
   "metadata": {},
   "outputs": [],
   "source": [
    "# Basic Libraries\n",
    "import os \n",
    "import vertexai\n",
    "import yaml\n",
    "\n",
    "# AI Engine on Vertex AI \n",
    "from vertexai import agent_engines\n",
    "\n",
    "# Library for AI Engine with ADK\n",
    "from vertexai.preview import reasoning_engines\n",
    "\n",
    "# Just to view JSON response formatted\n",
    "import json\n",
    "from IPython.display import display,Markdown,JSON\n",
    "\n",
    "# To load envvars dict from .env file\n",
    "from dotenv import dotenv_values"
   ]
  },
  {
   "cell_type": "code",
   "execution_count": null,
   "id": "84fd6ee3",
   "metadata": {},
   "outputs": [],
   "source": [
    "# Load Agent Config\n",
    "AGENT_DIR = \"jira_agent\"\n",
    "\n",
    "# Load environment variables from .env file from agent Directory \n",
    "from dotenv import load_dotenv\n",
    "env_file = f'./{AGENT_DIR}/.env'\n",
    "load_dotenv(env_file)\n",
    "\n",
    "# Load config from agents (Params and dependencies for deploy)\n",
    "with open(f'./{AGENT_DIR}/config.yaml', 'r') as f:\n",
    "    config = yaml.safe_load(f)\n",
    "\n",
    "# For Vertex AI SDK \n",
    "PROJECT_ID = os.environ.get(\"GOOGLE_CLOUD_PROJECT\")\n",
    "LOCATION = os.environ.get(\"GOOGLE_CLOUD_LOCATION\")\n",
    "BUCKET = os.environ.get(\"GOOGLE_CLOUD_BUCKET\")"
   ]
  },
  {
   "cell_type": "markdown",
   "id": "d7aa9d34",
   "metadata": {},
   "source": [
    "### Instantiate Agent from Directory"
   ]
  },
  {
   "cell_type": "code",
   "execution_count": null,
   "id": "fe2d6771",
   "metadata": {},
   "outputs": [],
   "source": [
    "# Importing Agent Module from AGENT_DIR folder\n",
    "import importlib\n",
    "agent_module = importlib.import_module(f\"{AGENT_DIR.replace('/','.')}.agent\")\n",
    "\n",
    "# Instantiate the Assistant as an ADK App \n",
    "adk_agent = reasoning_engines.AdkApp(\n",
    "    agent=agent_module.root_agent,\n",
    ")"
   ]
  },
  {
   "cell_type": "markdown",
   "id": "6151601a",
   "metadata": {},
   "source": [
    "### Running Agent Local (Optional)"
   ]
  },
  {
   "cell_type": "code",
   "execution_count": null,
   "id": "52fed743",
   "metadata": {},
   "outputs": [],
   "source": [
    "# Run a simple query\n",
    "for event in adk_agent.stream_query(\n",
    "    user_id=\"user\",\n",
    "    message=\"Hi, how can you help me?\",\n",
    "):\n",
    "    pass\n",
    "\n",
    "# Formatted output\n",
    "display(Markdown(f\"```json\\n{json.dumps(event, indent=2,ensure_ascii=False)}\\n```\"))"
   ]
  },
  {
   "cell_type": "markdown",
   "id": "1fb6b70a",
   "metadata": {},
   "source": [
    "### Deploy on Agent Engine"
   ]
  },
  {
   "cell_type": "code",
   "execution_count": null,
   "id": "a46cc108",
   "metadata": {},
   "outputs": [],
   "source": [
    "# Instantiate Vertex AI\n",
    "vertexai.init(\n",
    "    project=PROJECT_ID,\n",
    "    location=LOCATION,\n",
    "    staging_bucket=BUCKET,\n",
    ")"
   ]
  },
  {
   "cell_type": "code",
   "execution_count": null,
   "id": "396f9745",
   "metadata": {},
   "outputs": [],
   "source": [
    "## Retrieve all existent Agent Engine on your project\n",
    "for agent in agent_engines.list():\n",
    "    print(f\"============================ \\nAgent: {agent.display_name}\\nResoruce Name: {agent.resource_name}\\nCreated/updated at: {agent.update_time} \\n\\n\" )"
   ]
  },
  {
   "cell_type": "code",
   "execution_count": null,
   "id": "2ad8be79",
   "metadata": {},
   "outputs": [],
   "source": [
    "# Read Requirements for Agent from config file\n",
    "# Usually this ['google-cloud-aiplatform[agent_engines]', 'google-adk', 'cloudpickle'] plus the packages that agent needs\n",
    "requirements = config['deploy']['dependencies']\n",
    "requirements"
   ]
  },
  {
   "cell_type": "code",
   "execution_count": null,
   "id": "2892d8bc",
   "metadata": {},
   "outputs": [],
   "source": [
    "# Extra packages from agent folder (This is all .py files inside Agent Directory)\n",
    "extra_packages = [AGENT_DIR]\n",
    "extra_packages"
   ]
  },
  {
   "cell_type": "code",
   "execution_count": null,
   "id": "0dd2f250",
   "metadata": {},
   "outputs": [],
   "source": [
    "# Load Variables on env_vars dict to be used when creating the Agent\n",
    "env_vars = dotenv_values(dotenv_path=env_file)\n",
    "\n",
    "# Remove GCP variables (this variables already are defined in Agent Engine and are reserved)\n",
    "keys_to_remove = [\n",
    "    \"GOOGLE_GENAI_USE_VERTEXAI\",\n",
    "    \"GOOGLE_CLOUD_PROJECT\",\n",
    "    \"GOOGLE_CLOUD_LOCATION\",\n",
    "    \"GOOGLE_CLOUD_BUCKET\"\n",
    "]\n",
    "\n",
    "for key in keys_to_remove:\n",
    "    env_vars.pop(key, None)\n"
   ]
  },
  {
   "cell_type": "code",
   "execution_count": null,
   "id": "f3aa76bc",
   "metadata": {},
   "outputs": [],
   "source": [
    "# Deploy the Agent on AI Engine (This takes a few minutes)\n",
    "remote_agent = agent_engines.create(\n",
    "    agent_engine = adk_agent,             # The Agent instantiated as ADK agent\n",
    "    requirements=requirements,            # Requirements file\n",
    "    extra_packages=extra_packages,        # Extra packages\n",
    "    display_name=config['agent_display_name'],    # Display name  \n",
    "    description=config['agent_description'],     # Description\n",
    "    env_vars=env_vars                     # Env Vars dict\n",
    ")"
   ]
  },
  {
   "cell_type": "markdown",
   "id": "e09c0018",
   "metadata": {},
   "source": [
    "### Test Remote Agent on Agent Engine"
   ]
  },
  {
   "cell_type": "code",
   "execution_count": null,
   "id": "6c662923",
   "metadata": {},
   "outputs": [],
   "source": [
    "## Retrieve all existent Agent Engine resource.names (Agents)\n",
    "# To confirm new agent was deployed\n",
    "for agent in agent_engines.list():\n",
    "    print(f\"============================ \\nAgent: {agent.display_name}\\nResoruce Name: {agent.resource_name}\\nCreated/updated at: {agent.update_time} \\n\\n\" )"
   ]
  },
  {
   "cell_type": "code",
   "execution_count": null,
   "id": "6a435c3e",
   "metadata": {},
   "outputs": [],
   "source": [
    "# Confirm that \"remote_agent\" is pointing to your new agent\n",
    "print(f\"=================== Remote Agent ============================ \\n\\\n",
    " Name: {remote_agent.display_name}\\n\\\n",
    " Resoruce Name: {remote_agent.resource_name}\\n\\\n",
    " Created/updated at: {remote_agent.update_time} \\n\\n\" )"
   ]
  },
  {
   "cell_type": "code",
   "execution_count": null,
   "id": "4bc18e64",
   "metadata": {},
   "outputs": [],
   "source": [
    "# Run a simple query\n",
    "for remote_event in remote_agent.stream_query(\n",
    "    user_id=\"user\",\n",
    "    message=\"Hi, what you can do form me?\",\n",
    "):\n",
    "    display(JSON(remote_event,expanded=True)) "
   ]
  },
  {
   "cell_type": "code",
   "execution_count": null,
   "id": "da9b0bdd",
   "metadata": {},
   "outputs": [],
   "source": [
    "# Formatted final output\n",
    "display(Markdown(f\"```json\\n{json.dumps(remote_event, indent=2,ensure_ascii=False)}\\n```\"))"
   ]
  }
 ],
 "metadata": {
  "kernelspec": {
   "display_name": ".venv",
   "language": "python",
   "name": "python3"
  },
  "language_info": {
   "codemirror_mode": {
    "name": "ipython",
    "version": 3
   },
   "file_extension": ".py",
   "mimetype": "text/x-python",
   "name": "python",
   "nbconvert_exporter": "python",
   "pygments_lexer": "ipython3",
   "version": "3.12.6"
  }
 },
 "nbformat": 4,
 "nbformat_minor": 5
}
